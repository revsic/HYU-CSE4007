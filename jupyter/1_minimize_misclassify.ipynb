{
 "cells": [
  {
   "cell_type": "markdown",
   "metadata": {},
   "source": [
    "# Logistic regression and loss function\n",
    "\n",
    "Test whether logistic regression with minimizing true negative can train data well or not."
   ]
  },
  {
   "cell_type": "markdown",
   "metadata": {},
   "source": [
    "## Data preparation\n",
    "\n",
    "2D-Normal with eye-covariance and (0, 3) and (2, 1) mean."
   ]
  },
  {
   "cell_type": "code",
   "execution_count": 1,
   "metadata": {},
   "outputs": [],
   "source": [
    "import numpy as np\n",
    "import matplotlib.pyplot as plt\n",
    "%matplotlib inline"
   ]
  },
  {
   "cell_type": "code",
   "execution_count": 2,
   "metadata": {},
   "outputs": [],
   "source": [
    "cov = np.eye(2) * 0.5\n",
    "label_0 = np.random.multivariate_normal([0, 3], cov, 30)\n",
    "label_1 = np.random.multivariate_normal([2, 1], cov, 30)\n",
    "data = np.concatenate([label_0, label_1], axis=0).T\n",
    "label = np.array([0] * 30 + [1] * 30)"
   ]
  },
  {
   "cell_type": "code",
   "execution_count": 3,
   "metadata": {},
   "outputs": [
    {
     "data": {
      "text/plain": [
       "[<matplotlib.lines.Line2D at 0x117cfd9e8>]"
      ]
     },
     "execution_count": 3,
     "metadata": {},
     "output_type": "execute_result"
    },
    {
     "data": {
      "image/png": "[encoded data removed]",
      "text/plain": [
       "<Figure size 432x288 with 1 Axes>"
      ]
     },
     "metadata": {
      "needs_background": "light"
     },
     "output_type": "display_data"
    }
   ],
   "source": [
    "plt.plot(label_0.T[0], label_0.T[1], 'ro')\n",
    "plt.plot(label_1.T[0], label_1.T[1], 'bo')"
   ]
  },
  {
   "cell_type": "markdown",
   "metadata": {},
   "source": [
    "## Model definition\n",
    "\n",
    "Define logistic regression model with training mode."
   ]
  },
  {
   "cell_type": "code",
   "execution_count": 4,
   "metadata": {},
   "outputs": [],
   "source": [
    "class Logistic:\n",
    "    def __init__(self, size=2, mode='true_negative'):\n",
    "        self.mode = mode\n",
    "        self.weight = np.random.randn(size, 1)\n",
    "\n",
    "    def sigmoid(self, x):\n",
    "        return 1 / (1 + np.exp(-x))\n",
    "\n",
    "    def forward(self, data):\n",
    "        return self.sigmoid(self.weight.T @ data)\n",
    "\n",
    "    def inference(self, data):\n",
    "        return self.forward(data) > 0.5\n",
    "\n",
    "    def derivative(self, data, label):\n",
    "        if self.mode == 'true_negative':\n",
    "            return data @ (1 - label - self.forward(data)).T\n",
    "        elif self.mode == 'true_positive':\n",
    "            return data @ (label - self.forward(data)).T\n",
    "\n",
    "    def update(self, data, label, learning_rate):\n",
    "        self.weight = self.weight + learning_rate * self.derivative(data, label)\n",
    "        return self.weight\n",
    "\n",
    "    def train(self, epochs, lr, threshold, data, label):\n",
    "        prev_weight = self.weight\n",
    "        for i in range(epochs):\n",
    "            weight = self.update(data, label, lr)\n",
    "            if np.mean(np.abs(prev_weight - weight)) < threshold:\n",
    "                break"
   ]
  },
  {
   "cell_type": "markdown",
   "metadata": {},
   "source": [
    "## 1. Maximizing true positive\n",
    "\n",
    "Train model with maximizing true positive."
   ]
  },
  {
   "cell_type": "code",
   "execution_count": 5,
   "metadata": {},
   "outputs": [],
   "source": [
    "model = Logistic(mode='true_positive')\n",
    "model.train(10000, 1e-2, 1e-2, data, label)"
   ]
  },
  {
   "cell_type": "code",
   "execution_count": 6,
   "metadata": {},
   "outputs": [],
   "source": [
    "domain = np.linspace(0, 2, 800)\n",
    "boundary = -model.weight[0] / model.weight[1] * domain"
   ]
  },
  {
   "cell_type": "code",
   "execution_count": 7,
   "metadata": {},
   "outputs": [
    {
     "data": {
      "text/plain": [
       "[<matplotlib.lines.Line2D at 0x11816b898>]"
      ]
     },
     "execution_count": 7,
     "metadata": {},
     "output_type": "execute_result"
    },
    {
     "data": {
      "image/png": "[encoded data removed]",
      "text/plain": [
       "<Figure size 432x288 with 1 Axes>"
      ]
     },
     "metadata": {
      "needs_background": "light"
     },
     "output_type": "display_data"
    }
   ],
   "source": [
    "plt.plot(label_0.T[0], label_0.T[1], 'ro')\n",
    "plt.plot(label_1.T[0], label_1.T[1], 'bo')\n",
    "plt.plot(domain, boundary)"
   ]
  },
  {
   "cell_type": "markdown",
   "metadata": {},
   "source": [
    "## 2. Minimizing true negative\n",
    "\n",
    "Train model with minimizing true negative."
   ]
  },
  {
   "cell_type": "code",
   "execution_count": 8,
   "metadata": {},
   "outputs": [],
   "source": [
    "model = Logistic(mode='true_negative')\n",
    "model.train(100000, 1e-2, 1e-2, data, label)"
   ]
  },
  {
   "cell_type": "code",
   "execution_count": 9,
   "metadata": {},
   "outputs": [],
   "source": [
    "domain = np.linspace(0, 2, 800)\n",
    "boundary = -model.weight[0] / model.weight[1] * domain"
   ]
  },
  {
   "cell_type": "code",
   "execution_count": 10,
   "metadata": {},
   "outputs": [
    {
     "data": {
      "text/plain": [
       "[<matplotlib.lines.Line2D at 0x118038438>]"
      ]
     },
     "execution_count": 10,
     "metadata": {},
     "output_type": "execute_result"
    },
    {
     "data": {
      "image/png": "[encoded data removed]",
      "text/plain": [
       "<Figure size 432x288 with 1 Axes>"
      ]
     },
     "metadata": {
      "needs_background": "light"
     },
     "output_type": "display_data"
    }
   ],
   "source": [
    "plt.plot(label_0.T[0], label_0.T[1], 'ro')\n",
    "plt.plot(label_1.T[0], label_1.T[1], 'bo')\n",
    "plt.plot(domain, boundary)"
   ]
  },
  {
   "cell_type": "markdown",
   "metadata": {},
   "source": [
    "## 3. Conclusion\n",
    "\n",
    "Two objectives are same and both can classify data well."
   ]
  }
 ],
 "metadata": {
  "kernelspec": {
   "display_name": "Python 3",
   "language": "python",
   "name": "python3"
  },
  "language_info": {
   "codemirror_mode": {
    "name": "ipython",
    "version": 3
   },
   "file_extension": ".py",
   "mimetype": "text/x-python",
   "name": "python",
   "nbconvert_exporter": "python",
   "pygments_lexer": "ipython3",
   "version": "3.7.3"
  }
 },
 "nbformat": 4,
 "nbformat_minor": 2
}
